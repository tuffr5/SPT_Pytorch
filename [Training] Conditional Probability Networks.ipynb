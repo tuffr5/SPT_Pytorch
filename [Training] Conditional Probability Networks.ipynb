{
 "cells": [
  {
   "cell_type": "markdown",
   "metadata": {},
   "source": [
    "# This notebook shows training of conditional probability networks.\n",
    "\n",
    "set work directory to the \"Single_Particle_Tracking\" folder\n",
    "\n",
    "download and upzip [data and intermediate results](https://drive.google.com/open?id=1AO6du609gYup2mcyKIWEqU5dH5p8Fa4K) to work directory"
   ]
  },
  {
   "cell_type": "code",
   "execution_count": null,
   "metadata": {
    "collapsed": false,
    "jupyter": {
     "outputs_hidden": false
    }
   },
   "outputs": [],
   "source": [
    "%load_ext autoreload\n",
    "%autoreload 2\n",
    "%matplotlib inline\n",
    "\n",
    "from __future__ import print_function\n",
    "import matplotlib.pyplot as plt\n",
    "from skimage import io\n",
    "import random \n",
    "import numpy as np\n",
    "\n",
    "from skimage import measure\n",
    "from skimage.measure import label \n",
    "import scipy as sp\n",
    "import scipy.ndimage.morphology"
   ]
  },
  {
   "cell_type": "code",
   "execution_count": null,
   "metadata": {
    "collapsed": false,
    "jupyter": {
     "outputs_hidden": false
    }
   },
   "outputs": [],
   "source": [
    "# load blury images (obs.tif) and ground truth (labels.tif)\n",
    "\n",
    "folder = './data_and_pre_calculated_results/'\n",
    "\n",
    "from skimage import io\n",
    "obs = io.imread(folder+'obs.tif').astype('float32')\n",
    "labels = io.imread(folder+'label.tif').astype('float32')\n",
    "img_size = obs.shape[-1]\n",
    "\n",
    "print(obs.shape)\n",
    "print(labels.shape)"
   ]
  },
  {
   "cell_type": "code",
   "execution_count": null,
   "metadata": {
    "collapsed": false,
    "jupyter": {
     "outputs_hidden": false
    }
   },
   "outputs": [],
   "source": [
    "# plot raw data  \n",
    "import random \n",
    "n = 5\n",
    "i_base = random.randint(0,200) \n",
    "plt.figure(figsize=(24, 10))\n",
    "for i in range(n):\n",
    " \n",
    "    ax = plt.subplot(2, n, i+1)\n",
    "    plt.imshow(obs[i+i_base,:,:].reshape(img_size, img_size),interpolation='none', cmap='jet')\n",
    "    ax.get_xaxis().set_visible(False)\n",
    "    ax.get_yaxis().set_visible(False)\n",
    "    ax.set_title('obs. i='+str(i+i_base))\n",
    "    plt.colorbar()\n",
    "    \n",
    "    ax = plt.subplot(2, n, i+n+1)\n",
    "    plt.imshow(labels[i+i_base,:,:].reshape(img_size, img_size),interpolation='none', cmap='jet')\n",
    "    ax.get_xaxis().set_visible(False)\n",
    "    ax.get_yaxis().set_visible(False)\n",
    "    ax.set_title('true. i='+str(i+i_base))\n",
    "    plt.colorbar()\n",
    "    true_idx = np.where(labels[i+i_base,:,:]!=0)\n",
    "    true_idx_label = labels[i+i_base,:,:][true_idx]\n",
    "    for tru in range(len(true_idx[0])):\n",
    "        plt.text(true_idx[1][tru],true_idx[0][tru], str((true_idx_label[tru]).astype('int')),color=[.7,.7,.7])#color='magenta' )\n",
    "        plt.plot(true_idx[1][tru],true_idx[0][tru], 'yx')\n",
    "        \n",
    "    plt.xlim(0,img_size-1)\n",
    "    plt.ylim(img_size-1,0)"
   ]
  },
  {
   "cell_type": "code",
   "execution_count": null,
   "metadata": {
    "collapsed": false,
    "jupyter": {
     "outputs_hidden": false
    }
   },
   "outputs": [],
   "source": [
    "# Normalize data\n",
    "\n",
    "T_train = 9000  \n",
    "T_all = 10000 \n",
    "\n",
    "x_train = obs[0:T_train,:,:]\n",
    "x_train_before_normalization = x_train.copy() \n",
    "print(x_train.shape)\n",
    "y_train = labels[0:T_train,:,:]\n",
    "print(y_train.shape)\n",
    "\n",
    "x_test = obs[T_train:T_all,:,:]\n",
    "x_test_before_normalization = x_test.copy() \n",
    "print(x_test.shape)\n",
    "y_test = labels[T_train:T_all,:,:]\n",
    "print(y_test.shape)\n",
    "\n",
    "\n",
    "x_train = x_train.astype('float32')    \n",
    "x_test = x_test.astype('float32')    \n",
    " \n",
    "#normalization \n",
    "for idx in range(x_train.shape[0]):\n",
    "    x_train[idx,:,:] = x_train[idx,:,:]/x_train[idx,:,:].max()\n",
    " \n",
    "    \n",
    "for idx in range(x_test.shape[0]):\n",
    "    x_test[idx,:,:] = x_test[idx,:,:]/x_test[idx,:,:].max()"
   ]
  },
  {
   "cell_type": "code",
   "execution_count": null,
   "metadata": {
    "collapsed": false,
    "jupyter": {
     "outputs_hidden": false
    }
   },
   "outputs": [],
   "source": [
    "# plot data after normalization\n",
    "import random \n",
    "n = 5\n",
    "i_base = random.randint(0,200)  \n",
    "plt.figure(figsize=(24, 10))\n",
    "for i in range(n):\n",
    " \n",
    "    ax = plt.subplot(2, n, i+1)\n",
    "    plt.imshow(x_train[i+i_base,:,:].reshape(img_size, img_size),interpolation='none', cmap='jet')\n",
    " \n",
    "    ax.get_xaxis().set_visible(False)\n",
    "    ax.get_yaxis().set_visible(False)\n",
    "    ax.set_title('obs. i='+str(i+i_base))\n",
    "    plt.colorbar()\n",
    "    \n",
    "    ax = plt.subplot(2, n, i+n+1)\n",
    "    plt.imshow(y_train[i+i_base,:,:].reshape(img_size, img_size),interpolation='none', cmap='jet')\n",
    "    ax.get_xaxis().set_visible(False)\n",
    "    ax.get_yaxis().set_visible(False)\n",
    "    ax.set_title('true. i='+str(i+i_base))\n",
    "    plt.colorbar()\n",
    "    true_idx = np.where(labels[i+i_base,:,:]!=0)\n",
    "    true_idx_label = labels[i+i_base,:,:][true_idx]\n",
    "    for tru in range(len(true_idx[0])):\n",
    "        plt.text(true_idx[1][tru],true_idx[0][tru], str((true_idx_label[tru]).astype('int')),color=[.7,.7,.7])#color='magenta' )\n",
    "        plt.plot(true_idx[1][tru],true_idx[0][tru], 'yx')\n",
    "        \n",
    "    plt.xlim(0,img_size-1)\n",
    "    plt.ylim(img_size-1,0)"
   ]
  },
  {
   "cell_type": "markdown",
   "metadata": {},
   "source": [
    "# prepare NN input and output"
   ]
  },
  {
   "cell_type": "code",
   "execution_count": null,
   "metadata": {
    "collapsed": false,
    "jupyter": {
     "outputs_hidden": false
    }
   },
   "outputs": [],
   "source": [
    "# compute input and output for conditional probability neural networks. \n",
    "\n",
    "Ntrain = len(range(2,x_train.shape[0])) - 2 # remove t=0 and 1\n",
    "\n",
    "nfeatures = 8 #\n",
    "\n",
    "NN_inputs = np.zeros([Ntrain, nfeatures, img_size, img_size, 1])  \n",
    "NN_outputs = np.zeros([Ntrain, img_size, img_size, 1])  \n",
    "\n",
    "\n",
    "for t in range(2,x_train.shape[0]-2):\n",
    "\n",
    "    if t%1000==0:\n",
    "        print(t)\n",
    "        \n",
    "    # observations: t-2, t-1, t, t+1, t+2 \n",
    "    images = x_train[t-2:t+3,:,:]\n",
    "    \n",
    "    # particles mask in t-1 (history)\n",
    "    t_minus_1_mask = np.zeros([img_size, img_size])\n",
    "    t_minus_1_mask[np.where(y_train[t-1,:,:]!=0)] = 1    \n",
    "    t_minus_1_values = np.unique(y_train[t-1,:,:])\n",
    "    t_minus_1_particles = t_minus_1_values[t_minus_1_values!=0] # particles at t-1\n",
    "    nparticles = len(t_minus_1_particles) # number of particles at t-1\n",
    "    \n",
    "    # for sampling at t, from the pool of particles at t-1, random draw a subset of particles as \"sampled partilces\", \n",
    "    # the rest are particles to sample. \n",
    "    sampled_binary_mask = np.random.binomial(1, .5, nparticles)                                 \n",
    "    sampled_particles = t_minus_1_particles[np.where(sampled_binary_mask==1)]\n",
    "    to_sample_particles = t_minus_1_particles[np.where(sampled_binary_mask==0)]\n",
    "    sampled_number = len(sampled_particles)\n",
    "    \n",
    "    # sampled at t\n",
    "    t_mask_sampled = np.zeros([img_size, img_size]) \n",
    "    for i_sampled in range(len(sampled_particles)):\n",
    "        var = t_mask_sampled[np.where(y_train[t,:,:] ==  sampled_particles[i_sampled])] \n",
    "        if var!=0:\n",
    "            raise('sampled two')\n",
    "        t_mask_sampled[np.where(y_train[t,:,:] ==  sampled_particles[i_sampled])] = 1\n",
    "        \n",
    "    # sample one new particle id for sampling at t\n",
    "    if len(to_sample_particles) != 0:\n",
    "        id_to_sampling = np.random.randint(len(to_sample_particles))\n",
    "        particle_id_to_sampling =  to_sample_particles[id_to_sampling]\n",
    "         \n",
    "        \n",
    "        t_minus_1_mask_sampling = np.zeros([img_size, img_size])\n",
    "        t_minus_1_mask_sampling[np.where(y_train[t-1,:,:] == particle_id_to_sampling)] = 1\n",
    "             \n",
    "        # target (at t)\n",
    "        t_mask_sampling = np.zeros([img_size, img_size])\n",
    "        t_mask_sampling[np.where(y_train[t,:,:] == particle_id_to_sampling)] = 1 \n",
    "                        \n",
    "    else:\n",
    "         \n",
    "        t_minus_1_mask_sampling = np.zeros([img_size, img_size])\n",
    "        t_mask_sampling = np.zeros([img_size, img_size])\n",
    "            \n",
    "\n",
    "        \n",
    "    # expand dimension\n",
    "    t_minus_1_mask = np.expand_dims(t_minus_1_mask,axis=0)\n",
    "    t_mask_sampled = np.expand_dims(t_mask_sampled,axis=0)\n",
    "    t_minus_1_mask_sampling = np.expand_dims(t_minus_1_mask_sampling,axis=0)\n",
    "    t_mask_sampling  = np.expand_dims(t_mask_sampling,axis=0)\n",
    "    \n",
    "    inputs = np.concatenate((images, t_minus_1_mask, t_mask_sampled, t_minus_1_mask_sampling), axis=0)\n",
    "    \n",
    "    NN_inputs[t-2,:,:,:,0] = inputs   #remove t=0 and 1 in NN_inputs or NN_output\n",
    "    NN_outputs[t-2,:,:,0] = t_mask_sampling \n",
    "   "
   ]
  },
  {
   "cell_type": "code",
   "execution_count": null,
   "metadata": {
    "collapsed": false,
    "jupyter": {
     "outputs_hidden": false
    }
   },
   "outputs": [],
   "source": [
    "print(NN_outputs.shape)\n",
    "print(NN_inputs.shape)"
   ]
  },
  {
   "cell_type": "code",
   "execution_count": null,
   "metadata": {
    "collapsed": false,
    "jupyter": {
     "outputs_hidden": false
    }
   },
   "outputs": [],
   "source": [
    "NN_outputs1 = np.expand_dims(NN_outputs, axis=1)  # extend a dimension for NN input\n",
    "NN_outputs1.shape"
   ]
  },
  {
   "cell_type": "code",
   "execution_count": null,
   "metadata": {
    "tags": []
   },
   "outputs": [],
   "source": [
    "# save for pytorch training\n",
    "np.save(folder+'NN_inputs_sampling',np.transpose(NN_inputs, (0, 4, 1, 2, 3)))\n",
    "np.save(folder+'NN_outputs1_sampling',np.transpose(NN_outputs1, (0, 4, 1, 2, 3)))"
   ]
  },
  {
   "cell_type": "code",
   "execution_count": null,
   "metadata": {},
   "outputs": [],
   "source": [
    "np.amin(NN_outputs1)"
   ]
  },
  {
   "cell_type": "markdown",
   "metadata": {},
   "source": [
    "# plot NN input and output"
   ]
  },
  {
   "cell_type": "code",
   "execution_count": null,
   "metadata": {
    "tags": []
   },
   "outputs": [],
   "source": [
    "def label_im(im, marker_info, marker_label, if_text=0):\n",
    "    \n",
    "    # plot markers on images\n",
    "    \n",
    "    im_uni_values = im[im!=0]\n",
    "\n",
    "    sz = im.shape[0]\n",
    "    \n",
    "    myidx = np.where(im!=0)\n",
    "    for u in range(len(im_uni_values)):\n",
    " \n",
    "        values =  im[myidx[0][u],myidx[1][u]]\n",
    "         \n",
    "        if if_text:\n",
    "            plt.text(myidx[1][u],myidx[0][u],(values), color='w')\n",
    "        if u==0:\n",
    "            plt.plot(myidx[1][u],myidx[0][u], marker_info, label=marker_label)\n",
    "        else:\n",
    "            plt.plot(myidx[1][u],myidx[0][u], marker_info)\n",
    "        \n",
    "    plt.legend()    \n",
    "    plt.xlim(0,sz-1)\n",
    "    plt.ylim(sz-1,0)"
   ]
  },
  {
   "cell_type": "code",
   "execution_count": null,
   "metadata": {
    "collapsed": false,
    "jupyter": {
     "outputs_hidden": false
    }
   },
   "outputs": [],
   "source": [
    "# visualize NN input and output (for debug) \n",
    "import random \n",
    "img_size = 60\n",
    "n = 5\n",
    "i_base = random.randint(0,100) #72\n",
    "plt.figure(figsize=(24, 8))\n",
    "\n",
    "       \n",
    "true_t_minus_1 =  y_train[i_base+1,:,:]  \n",
    "true_t =  y_train[i_base+2,:,:] \n",
    "\n",
    "        \n",
    "for i in range(n):\n",
    " \n",
    "    \n",
    "    ax = plt.subplot(1, n, i+1)\n",
    "    plt.imshow(NN_inputs[i_base,i,:,:,0].reshape(img_size, img_size),interpolation='none', cmap='jet')\n",
    "    ax.get_xaxis().set_visible(False)\n",
    "    ax.get_yaxis().set_visible(False)\n",
    "    ax.set_title('sample=%d. frame=%d'%(i_base, i))\n",
    "    plt.colorbar()\n",
    "    \n",
    "    \n",
    "plt.figure()\n",
    "plt.imshow(NN_inputs[i_base,5,:,:,0].reshape(img_size, img_size),interpolation='none', cmap='jet')\n",
    "plt.title('t-1 mask, t=%d'%(2))\n",
    "label_im(true_t_minus_1, 'yx', 't-1')\n",
    "label_im(true_t, 'g+','t')\n",
    " \n",
    "plt.figure()\n",
    "plt.imshow(NN_inputs[i_base,6,:,:,0].reshape(img_size, img_size),interpolation='none', cmap='jet') \n",
    "plt.title('t sampled mask, t=%d'%(2))\n",
    "label_im(true_t_minus_1, 'yx', 't-1')\n",
    "label_im(true_t, 'g+','t')\n",
    "    \n",
    "plt.figure()\n",
    "plt.imshow(NN_inputs[i_base,7,:,:,0].reshape(img_size, img_size),interpolation='none', cmap='jet')\n",
    "plt.title('t-1 sampling mask, t=%d'%(2))\n",
    "label_im(true_t_minus_1, 'yx', 't-1')\n",
    "label_im(true_t, 'g+','t')\n",
    "    \n",
    "plt.figure()\n",
    "plt.imshow(NN_outputs1[i_base,0,:,:,0].reshape(img_size, img_size),interpolation='none', cmap='jet')\n",
    "plt.title('output: t sampling mask, t=%d'%(2))\n",
    "label_im(true_t_minus_1, 'yx', 't-1')\n",
    "label_im(true_t, 'g+','t')"
   ]
  },
  {
   "cell_type": "code",
   "execution_count": 2,
   "metadata": {},
   "outputs": [],
   "source": [
    "import torch\n",
    "import torch.nn as nn\n",
    "from torchinfo import summary\n",
    "import numpy as np\n",
    "from tqdm import tqdm\n",
    "from sklearn.metrics import accuracy_score, f1_score, precision_score, recall_score\n",
    "from dataset import ParticleDataset\n",
    "from model import SamplingNet"
   ]
  },
  {
   "cell_type": "markdown",
   "metadata": {},
   "source": [
    "# Define Dataloader"
   ]
  },
  {
   "cell_type": "code",
   "execution_count": 3,
   "metadata": {},
   "outputs": [],
   "source": [
    "torch.manual_seed(0)\n",
    "full_dataset = ParticleDataset('./data_and_pre_calculated_results/', 'NN_inputs_sampling.npy', 'NN_outputs1_sampling.npy')\n",
    "train_size = int(0.95 * len(full_dataset))\n",
    "test_size = len(full_dataset) - train_size\n",
    "trainset, testset = torch.utils.data.random_split(full_dataset, [train_size, test_size])\n",
    "\n",
    "trainloader = torch.utils.data.DataLoader(trainset, batch_size=10, shuffle=True, num_workers=8)\n",
    "testloader = torch.utils.data.DataLoader(testset, batch_size=10, shuffle=False, num_workers=8)"
   ]
  },
  {
   "cell_type": "code",
   "execution_count": 4,
   "metadata": {},
   "outputs": [],
   "source": [
    "device = torch.device(\"cuda:0\" if torch.cuda.is_available() else \"cpu\")"
   ]
  },
  {
   "cell_type": "markdown",
   "metadata": {},
   "source": [
    "# Define Model"
   ]
  },
  {
   "cell_type": "code",
   "execution_count": 5,
   "metadata": {
    "collapsed": false,
    "jupyter": {
     "outputs_hidden": false
    }
   },
   "outputs": [
    {
     "data": {
      "text/plain": [
       "===============================================================================================\n",
       "Layer (type:depth-idx)                        Output Shape              Param #\n",
       "===============================================================================================\n",
       "SamplingNet                                   --                        --\n",
       "├─Sequential: 1-1                             [10, 1, 1, 60, 60]        --\n",
       "│    └─ConvBLSTM: 2-1                         [10, 64, 8, 60, 60]       --\n",
       "│    │    └─ConvLSTM: 3-1                     [10, 32, 8, 60, 60]       38,144\n",
       "│    │    └─ConvLSTM: 3-2                     [10, 32, 8, 60, 60]       38,144\n",
       "│    └─BatchNorm3d: 2-2                       [10, 64, 8, 60, 60]       128\n",
       "│    └─Dropout3d: 2-3                         [10, 64, 8, 60, 60]       --\n",
       "│    └─ConvBLSTM: 2-4                         [10, 80, 8, 60, 60]       --\n",
       "│    │    └─ConvLSTM: 3-3                     [10, 40, 8, 60, 60]       149,920\n",
       "│    │    └─ConvLSTM: 3-4                     [10, 40, 8, 60, 60]       149,920\n",
       "│    └─BatchNorm3d: 2-5                       [10, 80, 8, 60, 60]       160\n",
       "│    └─Dropout3d: 2-6                         [10, 80, 8, 60, 60]       --\n",
       "│    └─ConvBLSTM: 2-7                         [10, 80, 8, 60, 60]       --\n",
       "│    │    └─ConvLSTM: 3-5                     [10, 40, 8, 60, 60]       172,960\n",
       "│    │    └─ConvLSTM: 3-6                     [10, 40, 8, 60, 60]       172,960\n",
       "│    └─BatchNorm3d: 2-8                       [10, 80, 8, 60, 60]       160\n",
       "│    └─Dropout3d: 2-9                         [10, 80, 8, 60, 60]       --\n",
       "│    └─ConvBLSTM: 2-10                        [10, 80, 8, 60, 60]       --\n",
       "│    │    └─ConvLSTM: 3-7                     [10, 40, 8, 60, 60]       172,960\n",
       "│    │    └─ConvLSTM: 3-8                     [10, 40, 8, 60, 60]       172,960\n",
       "│    └─BatchNorm3d: 2-11                      [10, 80, 8, 60, 60]       160\n",
       "│    └─Dropout3d: 2-12                        [10, 80, 8, 60, 60]       --\n",
       "│    └─Conv3d: 2-13                           [10, 256, 8, 60, 60]      553,216\n",
       "│    └─Sigmoid: 2-14                          [10, 256, 8, 60, 60]      --\n",
       "│    └─Dropout3d: 2-15                        [10, 256, 8, 60, 60]      --\n",
       "│    └─Conv3d: 2-16                           [10, 64, 8, 60, 60]       442,432\n",
       "│    └─Sigmoid: 2-17                          [10, 64, 8, 60, 60]       --\n",
       "│    └─Conv3d: 2-18                           [10, 1, 8, 60, 60]        1,729\n",
       "│    └─Sigmoid: 2-19                          [10, 1, 8, 60, 60]        --\n",
       "│    └─MaxPool3d: 2-20                        [10, 1, 1, 60, 60]        --\n",
       "===============================================================================================\n",
       "Total params: 2,065,953\n",
       "Trainable params: 2,065,953\n",
       "Non-trainable params: 0\n",
       "Total mult-adds (G): 594.82\n",
       "===============================================================================================\n",
       "Input size (MB): 1.15\n",
       "Forward/backward pass size (MB): 1790.21\n",
       "Params size (MB): 8.26\n",
       "Estimated Total Size (MB): 1799.62\n",
       "==============================================================================================="
      ]
     },
     "execution_count": 5,
     "metadata": {},
     "output_type": "execute_result"
    }
   ],
   "source": [
    "model = SamplingNet(last_dim=8).to(device)\n",
    "summary(model, input_size=(10, 1, 8, 60, 60))"
   ]
  },
  {
   "cell_type": "markdown",
   "metadata": {},
   "source": [
    "# Define optimizer and loss function"
   ]
  },
  {
   "cell_type": "code",
   "execution_count": 6,
   "metadata": {},
   "outputs": [],
   "source": [
    "# optimizer\n",
    "optimizer = torch.optim.RMSprop(model.parameters(), lr=0.0001, weight_decay=1e-6)\n",
    "# loss\n",
    "criterion = nn.BCELoss()"
   ]
  },
  {
   "cell_type": "markdown",
   "metadata": {},
   "source": [
    "# Training Model"
   ]
  },
  {
   "cell_type": "code",
   "execution_count": 7,
   "metadata": {
    "collapsed": false,
    "jupyter": {
     "outputs_hidden": false
    }
   },
   "outputs": [
    {
     "name": "stderr",
     "output_type": "stream",
     "text": [
      "                                                                                                                            \r"
     ]
    }
   ],
   "source": [
    "num_epoches = 10\n",
    "for epoch in range(num_epoches):  # loop over the dataset multiple times\n",
    "    \n",
    "    # training\n",
    "    model.train()\n",
    "    train_bar = tqdm(enumerate(trainloader), total=len(trainloader), leave=False)\n",
    "    \n",
    "    for i, (data, targets) in train_bar:\n",
    "        data = data.to(device)\n",
    "        targets = targets.to(device)\n",
    "\n",
    "        # zero the parameter gradients\n",
    "        optimizer.zero_grad()\n",
    "\n",
    "        # forward + backward + optimize\n",
    "        outputs = model(data)\n",
    "        loss = criterion(outputs, targets)\n",
    "        loss.backward()\n",
    "        optimizer.step()\n",
    "        \n",
    "        pred = outputs.gt(0.5).float().cpu().numpy().flatten()\n",
    "        targets = targets.cpu().numpy().flatten()\n",
    "        \n",
    "            \n",
    "        train_bar.set_description(f'Epoch [{epoch+1}/{num_epoches}]')\n",
    "        train_bar.set_postfix(loss=loss.item(), acc=accuracy_score(targets, pred), f1=f1_score(targets, pred), prec=precision_score(targets, pred, zero_division=0), recall=recall_score(targets, pred))\n",
    "            \n",
    "    # validating\n",
    "    model.eval()\n",
    "    test_bar = tqdm(enumerate(testloader), total=len(testloader), leave=False)\n",
    "    \n",
    "    with torch.no_grad():\n",
    "        for i, (data, targets) in test_bar:\n",
    "            data = data.to(device)\n",
    "            targets = targets.to(device)\n",
    "            outputs = model(data)\n",
    "            pred = outputs.gt(0.5).cpu().numpy().flatten()\n",
    "            targets = targets.cpu().numpy().flatten()\n",
    "            \n",
    "            test_bar.set_description(f'Epoch [{epoch+1}/{num_epoches}]')\n",
    "            test_bar.set_postfix(loss=loss.item(), acc=accuracy_score(targets, pred), f1=f1_score(targets, pred), prec=precision_score(targets, pred, zero_division=0), recall=recall_score(targets, pred))"
   ]
  },
  {
   "cell_type": "code",
   "execution_count": 8,
   "metadata": {
    "tags": []
   },
   "outputs": [],
   "source": [
    "# save trained model\n",
    "torch.save(model.state_dict(), './ckps/transition.pth')"
   ]
  },
  {
   "cell_type": "code",
   "execution_count": null,
   "metadata": {},
   "outputs": [
    {
     "name": "stderr",
     "output_type": "stream",
     "text": [
      "                                                                                                        \r"
     ]
    }
   ],
   "source": [
    "# load trained model\n",
    "model = SamplingNet(last_dim=8).cuda()\n",
    "model.load_state_dict(torch.load('./ckps/transition.pth'))\n",
    "model.eval()\n",
    "test_bar = tqdm(enumerate(testloader), total=len(testloader), leave=False)\n",
    "    \n",
    "with torch.no_grad():\n",
    "    for i, (data, targets) in test_bar:\n",
    "        data = data.to(device)\n",
    "        targets = targets.to(device)\n",
    "        outputs = model(data)\n",
    "        pred = outputs.gt(0.5).cpu().numpy().flatten()\n",
    "        targets = targets.cpu().numpy().flatten()\n",
    "\n",
    "        test_bar.set_postfix(loss=loss.item(), acc=accuracy_score(targets, pred), f1=f1_score(targets, pred, zero_division=0), prec=precision_score(targets, pred, zero_division=0), recall=recall_score(targets, pred, zero_division=0))"
   ]
  },
  {
   "cell_type": "code",
   "execution_count": null,
   "metadata": {},
   "outputs": [],
   "source": []
  }
 ],
 "metadata": {
  "anaconda-cloud": {},
  "kernelspec": {
   "display_name": "Python 3",
   "language": "python",
   "name": "python3"
  },
  "language_info": {
   "codemirror_mode": {
    "name": "ipython",
    "version": 3
   },
   "file_extension": ".py",
   "mimetype": "text/x-python",
   "name": "python",
   "nbconvert_exporter": "python",
   "pygments_lexer": "ipython3",
   "version": "3.9.7"
  }
 },
 "nbformat": 4,
 "nbformat_minor": 4
}
