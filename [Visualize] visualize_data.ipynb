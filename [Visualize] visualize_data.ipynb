{
 "cells": [
  {
   "cell_type": "code",
   "execution_count": 1,
   "id": "16b60151-7ab2-419c-be4b-3eb2469b3f50",
   "metadata": {},
   "outputs": [],
   "source": [
    "from tifffile import imread\n",
    "import numpy as np\n",
    "import neuroglancer"
   ]
  },
  {
   "cell_type": "code",
   "execution_count": 2,
   "id": "a68d09fa-36ac-4d17-9b92-62a6bd37d826",
   "metadata": {},
   "outputs": [],
   "source": [
    "obs = imread('data_and_pre_calculated_results/obs.tif')\n",
    "labels = imread('data_and_pre_calculated_results/label.tif')"
   ]
  },
  {
   "cell_type": "code",
   "execution_count": 3,
   "id": "00194d49-7f5c-41ba-b007-61aac46cc49a",
   "metadata": {},
   "outputs": [
    {
     "data": {
      "text/plain": [
       "((10000, 60, 60), (10000, 60, 60))"
      ]
     },
     "execution_count": 3,
     "metadata": {},
     "output_type": "execute_result"
    }
   ],
   "source": [
    "obs.shape, labels.shape"
   ]
  },
  {
   "cell_type": "code",
   "execution_count": 4,
   "id": "c602ecaa-30ff-43de-97d1-32a5e4dd8151",
   "metadata": {},
   "outputs": [
    {
     "data": {
      "text/plain": [
       "(dtype('uint16'), dtype('uint16'))"
      ]
     },
     "execution_count": 4,
     "metadata": {},
     "output_type": "execute_result"
    }
   ],
   "source": [
    "obs.dtype, labels.dtype"
   ]
  },
  {
   "cell_type": "code",
   "execution_count": 5,
   "id": "0836a012-1044-4110-9832-d4fef04581d1",
   "metadata": {},
   "outputs": [],
   "source": [
    "obs = np.array(obs, dtype=np.uint8)"
   ]
  },
  {
   "cell_type": "code",
   "execution_count": 6,
   "id": "41536f12-d0c2-4666-9667-4b94b14882f4",
   "metadata": {},
   "outputs": [],
   "source": [
    "neurons_id_list = np.unique(labels.flatten())"
   ]
  },
  {
   "cell_type": "code",
   "execution_count": 7,
   "id": "cc41c8ac-1b5c-4931-a902-0956503697a1",
   "metadata": {},
   "outputs": [
    {
     "data": {
      "text/plain": [
       "5495"
      ]
     },
     "execution_count": 7,
     "metadata": {},
     "output_type": "execute_result"
    }
   ],
   "source": [
    "len(neurons_id_list)"
   ]
  },
  {
   "cell_type": "code",
   "execution_count": 8,
   "id": "8c988e70-4001-459c-b643-50000dd60a4a",
   "metadata": {},
   "outputs": [],
   "source": [
    "dimensions=neuroglancer.CoordinateSpace(\n",
    "                scales=[1, 1, 1],\n",
    "                units='nm',\n",
    "                names=['x', 'y', 'z'])"
   ]
  },
  {
   "cell_type": "code",
   "execution_count": 9,
   "id": "57c13802-f37f-44f2-89b7-cef119a85626",
   "metadata": {},
   "outputs": [],
   "source": [
    "viewer = neuroglancer.Viewer()\n",
    "with viewer.txn() as s:\n",
    "    s.layers['image'] = neuroglancer.ImageLayer(\n",
    "        source=neuroglancer.LocalVolume(\n",
    "            obs,\n",
    "            dimensions=dimensions),\n",
    "        shader=\"\"\"\n",
    "void main() {\n",
    "  emitGrayscale(normalized());\n",
    "\"\"\",\n",
    "        )\n",
    "    s.layers['label'] = neuroglancer.SegmentationLayer(\n",
    "        source=neuroglancer.LocalVolume(\n",
    "            labels,\n",
    "            dimensions=dimensions,\n",
    "        ))\n",
    "    # s.layers['label'].segments.update(neurons_id_list)\n",
    "    # s.layers['label'].visible = True\n"
   ]
  },
  {
   "cell_type": "code",
   "execution_count": 10,
   "id": "0e91005d-329f-4413-b5de-0bdc302174b7",
   "metadata": {},
   "outputs": [
    {
     "name": "stdout",
     "output_type": "stream",
     "text": [
      "http://127.0.0.1:44225/v/39e85f0547f688379b4d569fb931d99bf65d9bab/\n"
     ]
    }
   ],
   "source": [
    "print(viewer)"
   ]
  },
  {
   "cell_type": "code",
   "execution_count": null,
   "id": "c9e99efd-41a3-4182-bf49-1759e4a3592d",
   "metadata": {},
   "outputs": [],
   "source": []
  }
 ],
 "metadata": {
  "kernelspec": {
   "display_name": "Python 3",
   "language": "python",
   "name": "python3"
  },
  "language_info": {
   "codemirror_mode": {
    "name": "ipython",
    "version": 3
   },
   "file_extension": ".py",
   "mimetype": "text/x-python",
   "name": "python",
   "nbconvert_exporter": "python",
   "pygments_lexer": "ipython3",
   "version": "3.9.7"
  }
 },
 "nbformat": 4,
 "nbformat_minor": 5
}
