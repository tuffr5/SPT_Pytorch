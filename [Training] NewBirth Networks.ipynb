{
 "cells": [
  {
   "cell_type": "markdown",
   "metadata": {},
   "source": [
    "# This notebook shows training of new birth networks.\n",
    "\n",
    "set work directory to the \"Single_Particle_Tracking\" folder\n",
    "\n",
    "download and upzip [data and intermediate results](https://drive.google.com/open?id=1AO6du609gYup2mcyKIWEqU5dH5p8Fa4K) to work directory"
   ]
  },
  {
   "cell_type": "code",
   "execution_count": null,
   "metadata": {
    "collapsed": false,
    "jupyter": {
     "outputs_hidden": false
    }
   },
   "outputs": [],
   "source": [
    "%load_ext autoreload\n",
    "%autoreload 2\n",
    "%matplotlib inline\n",
    "\n",
    "from __future__ import print_function\n",
    "import matplotlib.pyplot as plt\n",
    "from skimage import io\n",
    "import random \n",
    "import numpy as np\n",
    "\n",
    "from skimage import measure\n",
    "from skimage.measure import label \n",
    "import scipy as sp\n",
    "import scipy.ndimage.morphology"
   ]
  },
  {
   "cell_type": "code",
   "execution_count": null,
   "metadata": {
    "collapsed": false,
    "jupyter": {
     "outputs_hidden": false
    }
   },
   "outputs": [],
   "source": [
    "# load blury images (obs.tif) and ground truth (labels.tif)\n",
    "\n",
    "folder = './data_and_pre_calculated_results/'\n",
    "\n",
    "from skimage import io\n",
    "obs = io.imread(folder+'obs.tif').astype('float32')\n",
    "labels = io.imread(folder+'label.tif').astype('float32')\n",
    "img_size = obs.shape[-1]\n",
    "\n",
    "print(obs.shape)\n",
    "print(labels.shape)"
   ]
  },
  {
   "cell_type": "code",
   "execution_count": null,
   "metadata": {
    "collapsed": false,
    "jupyter": {
     "outputs_hidden": false
    }
   },
   "outputs": [],
   "source": [
    "# plot raw data  \n",
    "\n",
    "import random \n",
    "n = 5\n",
    "i_base = random.randint(0,200)  \n",
    "plt.figure(figsize=(24, 10))\n",
    "for i in range(n):\n",
    " \n",
    "    ax = plt.subplot(2, n, i+1)\n",
    "    plt.imshow(obs[i+i_base,:,:].reshape(img_size, img_size),interpolation='none', cmap='jet')\n",
    " \n",
    "    ax.get_xaxis().set_visible(False)\n",
    "    ax.get_yaxis().set_visible(False)\n",
    "    ax.set_title('obs. i='+str(i+i_base))\n",
    "    plt.colorbar()\n",
    "    \n",
    "    ax = plt.subplot(2, n, i+n+1)  \n",
    "    plt.imshow(labels[i+i_base,:,:].reshape(img_size, img_size),interpolation='none', cmap='jet')  \n",
    "    ax.get_xaxis().set_visible(False)\n",
    "    ax.get_yaxis().set_visible(False)\n",
    "    ax.set_title('true. i='+str(i+i_base))\n",
    "    plt.colorbar()\n",
    "    true_idx = np.where(labels[i+i_base,:,:]!=0)\n",
    "    true_idx_label = labels[i+i_base,:,:][true_idx]\n",
    "    for tru in range(len(true_idx[0])):\n",
    "        plt.text(true_idx[1][tru],true_idx[0][tru], str((true_idx_label[tru]).astype('int')),color=[.7,.7,.7])#color='magenta' )\n",
    "        plt.plot(true_idx[1][tru],true_idx[0][tru], 'yx')\n",
    "        \n",
    "    plt.xlim(0,img_size-1)\n",
    "    plt.ylim(img_size-1,0)"
   ]
  },
  {
   "cell_type": "code",
   "execution_count": null,
   "metadata": {
    "collapsed": false,
    "jupyter": {
     "outputs_hidden": false
    }
   },
   "outputs": [],
   "source": [
    "# normalize data\n",
    "\n",
    "T_train = 9000 # number of frames chosen to train\n",
    "T_all = 10000 # total number frames used (train+test)\n",
    "\n",
    "x_train = obs[0:T_train,:,:]\n",
    "x_train_before_normalization = x_train.copy() \n",
    "print(x_train.shape)\n",
    "y_train = labels[0:T_train,:,:]\n",
    "print(y_train.shape)\n",
    "\n",
    "x_test = obs[T_train:T_all,:,:]\n",
    "x_test_before_normalization = x_test.copy() \n",
    "print(x_test.shape)\n",
    "y_test = labels[T_train:T_all,:,:]\n",
    "print(y_test.shape)\n",
    "\n",
    "\n",
    "x_train = x_train.astype('float32')    \n",
    "x_test = x_test.astype('float32')    \n",
    " \n",
    "#normalization \n",
    "for idx in range(x_train.shape[0]):\n",
    "    x_train[idx,:,:] = x_train[idx,:,:]/x_train[idx,:,:].max()\n",
    " \n",
    "    \n",
    "for idx in range(x_test.shape[0]):\n",
    "    x_test[idx,:,:] = x_test[idx,:,:]/x_test[idx,:,:].max()"
   ]
  },
  {
   "cell_type": "code",
   "execution_count": null,
   "metadata": {
    "collapsed": false,
    "jupyter": {
     "outputs_hidden": false
    }
   },
   "outputs": [],
   "source": [
    "# plot data after normalization\n",
    "import random \n",
    "n = 5\n",
    "i_base = random.randint(0,200)  \n",
    "plt.figure(figsize=(24, 10))\n",
    "for i in range(n):\n",
    " \n",
    "    ax = plt.subplot(2, n, i+1)\n",
    "    plt.imshow(x_train[i+i_base,:,:].reshape(img_size, img_size),interpolation='none', cmap='jet')\n",
    "    #plt.gray()\n",
    "    ax.get_xaxis().set_visible(False)\n",
    "    ax.get_yaxis().set_visible(False)\n",
    "    ax.set_title('obs. i='+str(i+i_base))\n",
    "    plt.colorbar()\n",
    "    \n",
    "    ax = plt.subplot(2, n, i+n+1)  \n",
    "    plt.imshow(y_train[i+i_base,:,:].reshape(img_size, img_size),interpolation='none', cmap='jet') \n",
    "    ax.get_xaxis().set_visible(False)\n",
    "    ax.get_yaxis().set_visible(False)\n",
    "    ax.set_title('true. i='+str(i+i_base))\n",
    "    plt.colorbar()\n",
    "    true_idx = np.where(labels[i+i_base,:,:]!=0)\n",
    "    true_idx_label = labels[i+i_base,:,:][true_idx]\n",
    "    for tru in range(len(true_idx[0])):\n",
    "        plt.text(true_idx[1][tru],true_idx[0][tru], str((true_idx_label[tru]).astype('int')),color=[.7,.7,.7])#color='magenta' )\n",
    "        plt.plot(true_idx[1][tru],true_idx[0][tru], 'yx')\n",
    "        \n",
    "    plt.xlim(0,img_size-1)\n",
    "    plt.ylim(img_size-1,0)"
   ]
  },
  {
   "cell_type": "markdown",
   "metadata": {},
   "source": [
    "# prepare NN input and output for New Birth Networks"
   ]
  },
  {
   "cell_type": "code",
   "execution_count": null,
   "metadata": {
    "collapsed": false,
    "jupyter": {
     "outputs_hidden": false
    }
   },
   "outputs": [],
   "source": [
    "# takes a while. you can load the pre-run NN input and output \n",
    "''' \n",
    "NN_inputs = np.load(folder+'NN_inputs_newbirth.npy')\n",
    "print(NN_inputs.shape)\n",
    "NN_outputs = np.load(folder+'NN_outputs_newbirth.npy')\n",
    "print(NN_outputs.shape)\n",
    "'''\n",
    "\n",
    "Ntrain = x_train.shape[0]-2 \n",
    "\n",
    "NN_inputs = np.zeros([Ntrain, 6, img_size, img_size, 1])  \n",
    "NN_outputs = np.zeros([Ntrain, img_size, img_size, 1])  \n",
    "\n",
    "for t in range(2,x_train.shape[0]-2):\n",
    "    \n",
    "    if t%1000==0:\n",
    "        print(t)\n",
    "    images = x_train[t-2:t+3,:,:]\n",
    "    \n",
    "    \n",
    "    current_unique_values = np.unique(y_train[t,:,:])[1:]\n",
    "    new_borns = []\n",
    "    sampled_id = []\n",
    "    new_borns_img = np.zeros([img_size, img_size])\n",
    "    sampled_mask = np.zeros([img_size, img_size])\n",
    "    for i in range(len(current_unique_values)):\n",
    "        if len(np.where(y_train[:t,:,:] == current_unique_values[i])[0])==0:\n",
    "            new_borns = np.append(new_borns, current_unique_values[i])\n",
    "        \n",
    "            var = new_borns_img[np.where(y_train[t,:,:] == current_unique_values[i])]\n",
    "            if var != 0: \n",
    "                raise('var is not zero: more than one particles in the pixel, t=%d, i=%d'%(t,i))\n",
    "            new_borns_img[np.where(y_train[t,:,:] == current_unique_values[i])] = 1\n",
    "        \n",
    "        else:\n",
    "            var_sampled = sampled_mask[np.where(y_train[t,:,:] == current_unique_values[i])]\n",
    "            sampled_id = np.append(sampled_id, current_unique_values[i])\n",
    "            if var_sampled != 0: \n",
    "                raise('var_sampled is not zero: more than one particles in the pixel, t=%d, i=%d'%(t,i))\n",
    "            sampled_mask[np.where(y_train[t,:,:] == current_unique_values[i])] = 1\n",
    "            \n",
    "            \n",
    "    sampled_mask_concat = np.expand_dims(sampled_mask, axis=0)\n",
    "    new_borns_img_concat = np.expand_dims(new_borns_img, axis=0)\n",
    "    \n",
    "    inputs = np.concatenate((images, sampled_mask_concat), axis=0)\n",
    "    NN_inputs[t,:,:,:,0] = inputs   \n",
    "    NN_outputs[t,:,:,0] = new_borns_img "
   ]
  },
  {
   "cell_type": "code",
   "execution_count": null,
   "metadata": {
    "collapsed": false,
    "jupyter": {
     "outputs_hidden": false
    }
   },
   "outputs": [],
   "source": [
    "print(NN_outputs.shape)\n",
    "print(NN_inputs.shape)"
   ]
  },
  {
   "cell_type": "code",
   "execution_count": null,
   "metadata": {
    "collapsed": false,
    "jupyter": {
     "outputs_hidden": false
    }
   },
   "outputs": [],
   "source": [
    "NN_outputs1 = np.expand_dims(NN_outputs, axis=1)  # extend a dimension for NN input\n",
    "NN_outputs1.shape"
   ]
  },
  {
   "cell_type": "code",
   "execution_count": null,
   "metadata": {
    "tags": []
   },
   "outputs": [],
   "source": [
    "np.save(folder+'NN_inputs_newbirth',np.transpose(NN_inputs, (0, 4, 1, 2, 3)))\n",
    "np.save(folder+'NN_outputs_newbirth',np.transpose(NN_outputs1, (0, 4, 1, 2, 3)))"
   ]
  },
  {
   "cell_type": "markdown",
   "metadata": {},
   "source": [
    "# plot NN input and output"
   ]
  },
  {
   "cell_type": "code",
   "execution_count": null,
   "metadata": {},
   "outputs": [],
   "source": [
    "# folder = './data_and_pre_calculated_results/'\n",
    "# NN_inputs = np.load(folder+'NN_inputs_newbirth.npy')\n",
    "# NN_outputs = np.load(folder+'NN_outputs_newbirth.npy')\n",
    "# NN_inputs = np.transpose(NN_inputs, (0, 2, 3, 4, 1))\n",
    "# NN_outputs = np.transpose(NN_outputs, (0, 2, 3, 4, 1))[:, 0, :, :, :]"
   ]
  },
  {
   "cell_type": "code",
   "execution_count": null,
   "metadata": {},
   "outputs": [],
   "source": [
    "# print(NN_outputs.shape)\n",
    "# print(NN_inputs.shape)"
   ]
  },
  {
   "cell_type": "code",
   "execution_count": null,
   "metadata": {
    "collapsed": false,
    "jupyter": {
     "outputs_hidden": false
    }
   },
   "outputs": [],
   "source": [
    "# visualize neural networks input and output (for debug)\n",
    "import random \n",
    "img_size = 60\n",
    "n = 5\n",
    "i_base = random.randint(0,100)  \n",
    "plt.figure(figsize=(15, 6))\n",
    "for i in range(n):\n",
    " \n",
    "    \n",
    "    ax = plt.subplot(2, n, i+1)\n",
    "    plt.imshow(NN_inputs[i_base,i,:,:,0].reshape(img_size, img_size),interpolation='none', cmap='jet')\n",
    "    #plt.gray()\n",
    "    ax.get_xaxis().set_visible(False)\n",
    "    ax.get_yaxis().set_visible(False)\n",
    "    ax.set_title('obs. i='+str(i+i_base))\n",
    "    plt.colorbar()\n",
    "    \n",
    "    \n",
    "    \n",
    "    ax = plt.subplot(2, n, n+1)\n",
    "    plt.imshow(NN_inputs[i_base,5,:,:,0].reshape(img_size, img_size),interpolation='none', cmap='jet')\n",
    " \n",
    "    ax = plt.subplot(2, n, 2+n)\n",
    "    plt.imshow(NN_outputs[i_base,:,:,0].reshape(img_size, img_size),interpolation='none', cmap='jet') "
   ]
  },
  {
   "cell_type": "code",
   "execution_count": 1,
   "metadata": {},
   "outputs": [],
   "source": [
    "import torch\n",
    "import torch.nn as nn\n",
    "from torchinfo import summary\n",
    "import numpy as np\n",
    "from tqdm import tqdm\n",
    "from sklearn.metrics import accuracy_score, f1_score, precision_score, recall_score\n",
    "from dataset import ParticleDataset\n",
    "from model import SamplingNet"
   ]
  },
  {
   "cell_type": "markdown",
   "metadata": {},
   "source": [
    "# Define Dataloader"
   ]
  },
  {
   "cell_type": "code",
   "execution_count": 2,
   "metadata": {},
   "outputs": [],
   "source": [
    "torch.manual_seed(0)\n",
    "full_dataset = ParticleDataset('./data_and_pre_calculated_results/', 'NN_inputs_newbirth.npy', 'NN_outputs_newbirth.npy')\n",
    "train_size = int(0.95 * len(full_dataset))\n",
    "test_size = len(full_dataset) - train_size\n",
    "trainset, testset = torch.utils.data.random_split(full_dataset, [train_size, test_size])\n",
    "\n",
    "trainloader = torch.utils.data.DataLoader(trainset, batch_size=10, shuffle=True, num_workers=8)\n",
    "testloader = torch.utils.data.DataLoader(testset, batch_size=10, shuffle=False, num_workers=8)"
   ]
  },
  {
   "cell_type": "code",
   "execution_count": 3,
   "metadata": {},
   "outputs": [],
   "source": [
    "device = torch.device(\"cuda:0\" if torch.cuda.is_available() else \"cpu\")"
   ]
  },
  {
   "cell_type": "markdown",
   "metadata": {},
   "source": [
    "# Define Model"
   ]
  },
  {
   "cell_type": "code",
   "execution_count": 4,
   "metadata": {},
   "outputs": [
    {
     "data": {
      "text/plain": [
       "===============================================================================================\n",
       "Layer (type:depth-idx)                        Output Shape              Param #\n",
       "===============================================================================================\n",
       "SamplingNet                                   --                        --\n",
       "├─Sequential: 1-1                             [10, 1, 1, 60, 60]        --\n",
       "│    └─ConvBLSTM: 2-1                         [10, 64, 6, 60, 60]       --\n",
       "│    │    └─ConvLSTM: 3-1                     [10, 32, 6, 60, 60]       38,144\n",
       "│    │    └─ConvLSTM: 3-2                     [10, 32, 6, 60, 60]       38,144\n",
       "│    └─BatchNorm3d: 2-2                       [10, 64, 6, 60, 60]       128\n",
       "│    └─Dropout3d: 2-3                         [10, 64, 6, 60, 60]       --\n",
       "│    └─ConvBLSTM: 2-4                         [10, 80, 6, 60, 60]       --\n",
       "│    │    └─ConvLSTM: 3-3                     [10, 40, 6, 60, 60]       149,920\n",
       "│    │    └─ConvLSTM: 3-4                     [10, 40, 6, 60, 60]       149,920\n",
       "│    └─BatchNorm3d: 2-5                       [10, 80, 6, 60, 60]       160\n",
       "│    └─Dropout3d: 2-6                         [10, 80, 6, 60, 60]       --\n",
       "│    └─ConvBLSTM: 2-7                         [10, 80, 6, 60, 60]       --\n",
       "│    │    └─ConvLSTM: 3-5                     [10, 40, 6, 60, 60]       172,960\n",
       "│    │    └─ConvLSTM: 3-6                     [10, 40, 6, 60, 60]       172,960\n",
       "│    └─BatchNorm3d: 2-8                       [10, 80, 6, 60, 60]       160\n",
       "│    └─Dropout3d: 2-9                         [10, 80, 6, 60, 60]       --\n",
       "│    └─ConvBLSTM: 2-10                        [10, 80, 6, 60, 60]       --\n",
       "│    │    └─ConvLSTM: 3-7                     [10, 40, 6, 60, 60]       172,960\n",
       "│    │    └─ConvLSTM: 3-8                     [10, 40, 6, 60, 60]       172,960\n",
       "│    └─BatchNorm3d: 2-11                      [10, 80, 6, 60, 60]       160\n",
       "│    └─Dropout3d: 2-12                        [10, 80, 6, 60, 60]       --\n",
       "│    └─Conv3d: 2-13                           [10, 256, 6, 60, 60]      553,216\n",
       "│    └─Sigmoid: 2-14                          [10, 256, 6, 60, 60]      --\n",
       "│    └─Dropout3d: 2-15                        [10, 256, 6, 60, 60]      --\n",
       "│    └─Conv3d: 2-16                           [10, 64, 6, 60, 60]       442,432\n",
       "│    └─Sigmoid: 2-17                          [10, 64, 6, 60, 60]       --\n",
       "│    └─Conv3d: 2-18                           [10, 1, 6, 60, 60]        1,729\n",
       "│    └─Sigmoid: 2-19                          [10, 1, 6, 60, 60]        --\n",
       "│    └─MaxPool3d: 2-20                        [10, 1, 1, 60, 60]        --\n",
       "===============================================================================================\n",
       "Total params: 2,065,953\n",
       "Trainable params: 2,065,953\n",
       "Non-trainable params: 0\n",
       "Total mult-adds (G): 446.11\n",
       "===============================================================================================\n",
       "Input size (MB): 0.86\n",
       "Forward/backward pass size (MB): 1430.21\n",
       "Params size (MB): 8.26\n",
       "Estimated Total Size (MB): 1439.34\n",
       "==============================================================================================="
      ]
     },
     "execution_count": 4,
     "metadata": {},
     "output_type": "execute_result"
    }
   ],
   "source": [
    "model = SamplingNet(last_dim=6).to(device)\n",
    "summary(model, input_size=(10, 1, 6, 60, 60))"
   ]
  },
  {
   "cell_type": "markdown",
   "metadata": {},
   "source": [
    "# Define optimizer and loss function"
   ]
  },
  {
   "cell_type": "code",
   "execution_count": 5,
   "metadata": {},
   "outputs": [],
   "source": [
    "# optimizer\n",
    "optimizer = torch.optim.RMSprop(model.parameters(), lr=0.0001, weight_decay=1e-6)\n",
    "# loss\n",
    "criterion = nn.BCELoss()"
   ]
  },
  {
   "cell_type": "markdown",
   "metadata": {},
   "source": [
    "# Training"
   ]
  },
  {
   "cell_type": "code",
   "execution_count": 6,
   "metadata": {},
   "outputs": [
    {
     "name": "stderr",
     "output_type": "stream",
     "text": [
      "                                                                                                                             \r"
     ]
    }
   ],
   "source": [
    "num_epoches = 10\n",
    "for epoch in range(num_epoches):  # loop over the dataset multiple times\n",
    "    \n",
    "    # training\n",
    "    model.train()\n",
    "    train_bar = tqdm(enumerate(trainloader), total=len(trainloader), leave=False)\n",
    "    \n",
    "    for i, (data, targets) in train_bar:\n",
    "        data = data.to(device)\n",
    "        targets = targets.to(device)\n",
    "\n",
    "        # zero the parameter gradients\n",
    "        optimizer.zero_grad()\n",
    "\n",
    "        # forward + backward + optimize\n",
    "        outputs = model(data)\n",
    "        loss = criterion(outputs, targets)\n",
    "        loss.backward()\n",
    "        optimizer.step()\n",
    "        \n",
    "        pred = outputs.gt(0.5).float().cpu().numpy().flatten()\n",
    "        targets = targets.cpu().numpy().flatten()\n",
    "        \n",
    "            \n",
    "        train_bar.set_description(f'Epoch [{epoch+1}/{num_epoches}]')\n",
    "        train_bar.set_postfix(loss=loss.item(), acc=accuracy_score(targets, pred), f1=f1_score(targets, pred, zero_division=0), prec=precision_score(targets, pred, zero_division=0), recall=recall_score(targets, pred, zero_division=0))\n",
    "            \n",
    "    # validating\n",
    "    model.eval()\n",
    "    test_bar = tqdm(enumerate(testloader), total=len(testloader), leave=False)\n",
    "    \n",
    "    with torch.no_grad():\n",
    "        for i, (data, targets) in test_bar:\n",
    "            data = data.to(device)\n",
    "            targets = targets.to(device)\n",
    "            outputs = model(data)\n",
    "            pred = outputs.gt(0.5).cpu().numpy().flatten()\n",
    "            targets = targets.cpu().numpy().flatten()\n",
    "            \n",
    "            test_bar.set_description(f'Epoch [{epoch+1}/{num_epoches}]')\n",
    "            test_bar.set_postfix(loss=loss.item(), acc=accuracy_score(targets, pred), f1=f1_score(targets, pred, zero_division=0), prec=precision_score(targets, pred, zero_division=0), recall=recall_score(targets, pred, zero_division=0))"
   ]
  },
  {
   "cell_type": "code",
   "execution_count": 7,
   "metadata": {
    "tags": []
   },
   "outputs": [],
   "source": [
    "# save trained model\n",
    "torch.save(model.state_dict(), './ckps/new_birth.pth')"
   ]
  },
  {
   "cell_type": "code",
   "execution_count": 11,
   "metadata": {},
   "outputs": [
    {
     "name": "stderr",
     "output_type": "stream",
     "text": [
      "                                                                                                        \r"
     ]
    }
   ],
   "source": [
    "# load trained model\n",
    "model = SamplingNet(last_dim=6).cuda()\n",
    "model.load_state_dict(torch.load('./ckps/new_birth.pth'))\n",
    "model.eval()\n",
    "test_bar = tqdm(enumerate(testloader), total=len(testloader), leave=False)\n",
    "    \n",
    "with torch.no_grad():\n",
    "    for i, (data, targets) in test_bar:\n",
    "        data = data.to(device)\n",
    "        targets = targets.to(device)\n",
    "        outputs = model(data)\n",
    "        pred = outputs.gt(0.5).cpu().numpy().flatten()\n",
    "        targets = targets.cpu().numpy().flatten()\n",
    "\n",
    "        test_bar.set_postfix(loss=loss.item(), acc=accuracy_score(targets, pred), f1=f1_score(targets, pred, zero_division=0), prec=precision_score(targets, pred, zero_division=0), recall=recall_score(targets, pred, zero_division=0))"
   ]
  },
  {
   "cell_type": "code",
   "execution_count": null,
   "metadata": {},
   "outputs": [],
   "source": []
  }
 ],
 "metadata": {
  "anaconda-cloud": {},
  "kernelspec": {
   "display_name": "Python 3",
   "language": "python",
   "name": "python3"
  },
  "language_info": {
   "codemirror_mode": {
    "name": "ipython",
    "version": 3
   },
   "file_extension": ".py",
   "mimetype": "text/x-python",
   "name": "python",
   "nbconvert_exporter": "python",
   "pygments_lexer": "ipython3",
   "version": "3.9.7"
  }
 },
 "nbformat": 4,
 "nbformat_minor": 4
}
